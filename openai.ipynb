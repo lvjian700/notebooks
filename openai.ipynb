{
 "cells": [
  {
   "cell_type": "markdown",
   "id": "36ea9de3-dd05-4d7e-9480-d3926d3da657",
   "metadata": {},
   "source": [
    "## Install Open AI"
   ]
  },
  {
   "cell_type": "code",
   "execution_count": 2,
   "id": "a49b792b-812c-4f93-90de-04ee346dc417",
   "metadata": {},
   "outputs": [],
   "source": [
    "%%capture\n",
    "!pip install openai"
   ]
  },
  {
   "cell_type": "markdown",
   "id": "b9167724-8f94-4763-bd1e-cf4c04a7cbbb",
   "metadata": {},
   "source": [
    "## Usage"
   ]
  },
  {
   "cell_type": "code",
   "execution_count": 5,
   "id": "5127a1ac-8a04-4d2a-9f6e-fe898940c836",
   "metadata": {},
   "outputs": [
    {
     "name": "stdout",
     "output_type": "stream",
     "text": [
      "ChatCompletionMessage(content='Functions call themselves,  \\nLayers deep in a program,  \\nInfinite loop spins.', refusal=None, role='assistant', function_call=None, tool_calls=None)\n"
     ]
    }
   ],
   "source": [
    "from openai import OpenAI\n",
    "client = OpenAI()\n",
    "\n",
    "completion = client.chat.completions.create(\n",
    "    model=\"gpt-4o-mini\",\n",
    "    messages=[\n",
    "        {\"role\": \"system\", \"content\": \"You are a helpful assistant.\"},\n",
    "        {\n",
    "            \"role\": \"user\",\n",
    "            \"content\": \"Write a haiku about recursion in programming.\"\n",
    "        }\n",
    "    ]\n",
    ")\n",
    "\n",
    "print(completion.choices[0].message)"
   ]
  },
  {
   "cell_type": "code",
   "execution_count": 6,
   "id": "12a92a27-d3c0-459a-8a14-00fa518e7ef0",
   "metadata": {},
   "outputs": [
    {
     "name": "stdout",
     "output_type": "stream",
     "text": [
      "https://oaidalleapiprodscus.blob.core.windows.net/private/org-0xi3FBapt57mIvmDB3N7n1uv/user-heOw4M2UPOS9ip6Pjx9YLSoI/img-PgLQXe9facfDGtRchfXkp8xf.png?st=2024-09-26T22%3A08%3A22Z&se=2024-09-27T00%3A08%3A22Z&sp=r&sv=2024-08-04&sr=b&rscd=inline&rsct=image/png&skoid=d505667d-d6c1-4a0a-bac7-5c84a87759f8&sktid=a48cca56-e6da-484e-a814-9c849652bcb3&skt=2024-09-26T23%3A08%3A22Z&ske=2024-09-27T23%3A08%3A22Z&sks=b&skv=2024-08-04&sig=/9492qcp0cgyFK9CsJqW2NNqNsvxcJXIqU9w1Y1ZM2E%3D\n"
     ]
    }
   ],
   "source": [
    "from openai import OpenAI\n",
    "client = OpenAI()\n",
    "\n",
    "response = client.images.generate(\n",
    "    prompt=\"A cute baby sea otter\",\n",
    "    n=2,\n",
    "    size=\"1024x1024\"\n",
    ")\n",
    "\n",
    "print(response.data[0].url)"
   ]
  },
  {
   "cell_type": "code",
   "execution_count": null,
   "id": "2045ea00-40fc-4228-9331-90ca746fe9f2",
   "metadata": {},
   "outputs": [],
   "source": []
  }
 ],
 "metadata": {
  "kernelspec": {
   "display_name": "Python 3 (ipykernel)",
   "language": "python",
   "name": "python3"
  },
  "language_info": {
   "codemirror_mode": {
    "name": "ipython",
    "version": 3
   },
   "file_extension": ".py",
   "mimetype": "text/x-python",
   "name": "python",
   "nbconvert_exporter": "python",
   "pygments_lexer": "ipython3",
   "version": "3.12.5"
  }
 },
 "nbformat": 4,
 "nbformat_minor": 5
}
