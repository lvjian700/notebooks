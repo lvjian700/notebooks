{
 "cells": [
  {
   "cell_type": "markdown",
   "id": "5fc809fe-ea7c-4bd9-8c4d-518483da503c",
   "metadata": {},
   "source": [
    "# Regex\n",
    "https://docs.python.org/3/howto/regex.html  \n",
    "https://docs.python.org/3/library/re.html"
   ]
  },
  {
   "cell_type": "markdown",
   "id": "ec15f5be-b96b-45fc-baa1-22bd595c1dad",
   "metadata": {},
   "source": [
    "## Tutorial"
   ]
  },
  {
   "cell_type": "code",
   "execution_count": 20,
   "id": "988c28e1-f4ec-4654-990d-5dc42625f90d",
   "metadata": {},
   "outputs": [],
   "source": [
    "import re"
   ]
  },
  {
   "cell_type": "markdown",
   "id": "674c3804-be4a-4fed-a07b-63a3c77dacbd",
   "metadata": {
    "jp-MarkdownHeadingCollapsed": true
   },
   "source": [
    "### Create a Regex Pattern"
   ]
  },
  {
   "cell_type": "code",
   "execution_count": 21,
   "id": "b7d34649-55cf-49f9-babe-81d905fac8d3",
   "metadata": {},
   "outputs": [
    {
     "data": {
      "text/plain": [
       "re.compile(r'[a-z]+', re.UNICODE)"
      ]
     },
     "execution_count": 21,
     "metadata": {},
     "output_type": "execute_result"
    }
   ],
   "source": [
    "p = re.compile('[a-z]+')\n",
    "p"
   ]
  },
  {
   "cell_type": "markdown",
   "id": "a203c18c-c87d-423a-b592-278051634b57",
   "metadata": {
    "jp-MarkdownHeadingCollapsed": true
   },
   "source": [
    "### Match"
   ]
  },
  {
   "cell_type": "code",
   "execution_count": 22,
   "id": "3e1e6040-9e09-4b49-963e-cac89332e398",
   "metadata": {},
   "outputs": [
    {
     "name": "stdout",
     "output_type": "stream",
     "text": [
      "None\n"
     ]
    }
   ],
   "source": [
    "print(p.match(\"\"))"
   ]
  },
  {
   "cell_type": "code",
   "execution_count": 23,
   "id": "78fe9304-5507-4a76-9fba-ce76894e0411",
   "metadata": {},
   "outputs": [
    {
     "data": {
      "text/plain": [
       "<re.Match object; span=(0, 5), match='tempo'>"
      ]
     },
     "execution_count": 23,
     "metadata": {},
     "output_type": "execute_result"
    }
   ],
   "source": [
    "m = p.match('tempo')\n",
    "m"
   ]
  },
  {
   "cell_type": "code",
   "execution_count": 25,
   "id": "cfc0df2b-c2cb-4b9b-bcde-80651d00cbe5",
   "metadata": {},
   "outputs": [
    {
     "name": "stdout",
     "output_type": "stream",
     "text": [
      "tempo\n"
     ]
    }
   ],
   "source": [
    "print(m.group())"
   ]
  },
  {
   "cell_type": "code",
   "execution_count": 26,
   "id": "2ced2b0f-8feb-4a35-9516-5393114b6c3e",
   "metadata": {},
   "outputs": [
    {
     "data": {
      "text/plain": [
       "(0, 5)"
      ]
     },
     "execution_count": 26,
     "metadata": {},
     "output_type": "execute_result"
    }
   ],
   "source": [
    "m.start(), m.end()"
   ]
  },
  {
   "cell_type": "code",
   "execution_count": 27,
   "id": "f39c0da9-14b3-4ac2-b12e-41117fa28a93",
   "metadata": {},
   "outputs": [
    {
     "data": {
      "text/plain": [
       "(0, 5)"
      ]
     },
     "execution_count": 27,
     "metadata": {},
     "output_type": "execute_result"
    }
   ],
   "source": [
    "m.span()"
   ]
  },
  {
   "cell_type": "markdown",
   "id": "4a36248c-fadc-4859-90fb-fc3d217fcfd9",
   "metadata": {},
   "source": [
    "### Search string"
   ]
  },
  {
   "cell_type": "code",
   "execution_count": 28,
   "id": "f3f05d99-e7dc-43b2-8b79-e1c9d1fc8c5a",
   "metadata": {},
   "outputs": [
    {
     "name": "stdout",
     "output_type": "stream",
     "text": [
      "<re.Match object; span=(4, 11), match='message'>\n"
     ]
    }
   ],
   "source": [
    "m = p.search('::: message')\n",
    "print(m)"
   ]
  },
  {
   "cell_type": "code",
   "execution_count": 29,
   "id": "82d5ada3-bb61-47f3-953d-5ee89c2de378",
   "metadata": {},
   "outputs": [
    {
     "data": {
      "text/plain": [
       "'message'"
      ]
     },
     "execution_count": 29,
     "metadata": {},
     "output_type": "execute_result"
    }
   ],
   "source": [
    "m.group()"
   ]
  },
  {
   "cell_type": "code",
   "execution_count": 30,
   "id": "0fa36b71-4f24-4000-9aaf-9f16dd2d73f6",
   "metadata": {},
   "outputs": [
    {
     "data": {
      "text/plain": [
       "(4, 11)"
      ]
     },
     "execution_count": 30,
     "metadata": {},
     "output_type": "execute_result"
    }
   ],
   "source": [
    "m.span()"
   ]
  },
  {
   "cell_type": "markdown",
   "id": "d760fcc6-e8bf-4360-8672-820467186e34",
   "metadata": {
    "jp-MarkdownHeadingCollapsed": true
   },
   "source": [
    "### Comman Pattern"
   ]
  },
  {
   "cell_type": "code",
   "execution_count": 36,
   "id": "5a94b637-b517-44e2-be39-4559ce31f46c",
   "metadata": {},
   "outputs": [
    {
     "name": "stdout",
     "output_type": "stream",
     "text": [
      "Match found: 123\n"
     ]
    }
   ],
   "source": [
    "p = re.compile(r'\\d+')\n",
    "m = p.match('123')\n",
    "if m:\n",
    "    print('Match found:', m.group())\n",
    "else:\n",
    "    print('No Match')"
   ]
  },
  {
   "cell_type": "markdown",
   "id": "1b3b79fd-2f89-4fa9-a8e6-85dac5988d77",
   "metadata": {
    "jp-MarkdownHeadingCollapsed": true
   },
   "source": [
    "### Find all"
   ]
  },
  {
   "cell_type": "code",
   "execution_count": 37,
   "id": "587e8e01-3ce5-4ac4-9f92-173638e02846",
   "metadata": {
    "editable": true,
    "slideshow": {
     "slide_type": ""
    },
    "tags": []
   },
   "outputs": [
    {
     "data": {
      "text/plain": [
       "['12', '11', '10']"
      ]
     },
     "execution_count": 37,
     "metadata": {},
     "output_type": "execute_result"
    }
   ],
   "source": [
    "p = re.compile(r'\\d+')\n",
    "p.findall('12 drummers drumming, 11 pipers piping, 10 lords a-leaping')"
   ]
  },
  {
   "cell_type": "code",
   "execution_count": 38,
   "id": "af2aab04-0fc1-4342-878e-1673628c6510",
   "metadata": {},
   "outputs": [
    {
     "name": "stdout",
     "output_type": "stream",
     "text": [
      "(0, 2)\n",
      "(22, 24)\n",
      "(29, 31)\n"
     ]
    }
   ],
   "source": [
    "iterator = p.finditer('12 drummers drumming, 11 ... 10 ...')\n",
    "for match in iterator:\n",
    "    print(match.span())"
   ]
  },
  {
   "cell_type": "markdown",
   "id": "0e40df32-22b0-45fb-8aa1-6af5fcfa62f3",
   "metadata": {
    "jp-MarkdownHeadingCollapsed": true
   },
   "source": [
    "### Shortcuts"
   ]
  },
  {
   "cell_type": "code",
   "execution_count": 41,
   "id": "5e8ad775-ee62-4f61-93a0-63e3b8afc81c",
   "metadata": {},
   "outputs": [
    {
     "data": {
      "text/plain": [
       "'From amk'"
      ]
     },
     "execution_count": 41,
     "metadata": {},
     "output_type": "execute_result"
    }
   ],
   "source": [
    "re.match(r'From\\s\\w+', 'From amk Thu May 14 19:12:10 1998').group()"
   ]
  },
  {
   "cell_type": "markdown",
   "id": "cab25e4e-af1f-4405-9f51-2a033951c850",
   "metadata": {},
   "source": [
    "## Advance"
   ]
  },
  {
   "cell_type": "markdown",
   "id": "15036ec4-c078-4114-973a-457ff1323afc",
   "metadata": {},
   "source": [
    "### Extracting atttributes"
   ]
  },
  {
   "cell_type": "code",
   "execution_count": null,
   "id": "47f7af4d-c25f-49c5-bf35-6ba4379a9514",
   "metadata": {},
   "outputs": [],
   "source": [
    "code = \"\"\"\n",
    "...config({\n",
    "    name: 'a',\n",
    "    other: '123',\n",
    "}),\n",
    "...config({\n",
    "    name: 'b',\n",
    "    array: [],\n",
    "    other: '123',\n",
    "}),\n",
    "...config({\n",
    "    tag: ['letter'],\n",
    "    name: 'c',\n",
    "    array: [\n",
    "        '1',\n",
    "        '2',\n",
    "    ],\n",
    "}),\n",
    "\"\"\""
   ]
  },
  {
   "cell_type": "code",
   "execution_count": 49,
   "id": "2a415640-f6ae-49c9-acdc-9e3db3823320",
   "metadata": {},
   "outputs": [
    {
     "name": "stdout",
     "output_type": "stream",
     "text": [
      "    name: 'b',\n",
      "    array: [],\n",
      "    other: '123',\n",
      "\n"
     ]
    }
   ],
   "source": [
    "def regex_for(name):\n",
    "    return re.compile(r\"\"\"\\.{3}config\\(\\{\\n\n",
    "      (?P<attrs>\n",
    "          (\\s+.+\\n)*\n",
    "          \\s+name:\\s\\'\"\"\" + name + r\"\"\"\\',\\n\n",
    "          (\\s+.+\\n)*\n",
    "      )\n",
    "    \\}\\),\"\"\", re.X | re.M)\n",
    "\n",
    "p = regex_for('b')\n",
    "m = p.search(code)\n",
    "print(m.group('attrs'))"
   ]
  },
  {
   "cell_type": "markdown",
   "id": "2cb09efb-497b-43b6-b2d0-107b6c57fddf",
   "metadata": {
    "jp-MarkdownHeadingCollapsed": true
   },
   "source": [
    "### Lookahead >"
   ]
  },
  {
   "cell_type": "code",
   "execution_count": 50,
   "id": "7ec5db5f-49e0-4afb-a2bb-f3198b652fe4",
   "metadata": {},
   "outputs": [],
   "source": [
    "s = \"hello hello word\""
   ]
  },
  {
   "cell_type": "code",
   "execution_count": 51,
   "id": "20660a1e-3509-4015-8027-a1523cc81e95",
   "metadata": {},
   "outputs": [
    {
     "data": {
      "text/plain": [
       "['hello', 'hello']"
      ]
     },
     "execution_count": 51,
     "metadata": {},
     "output_type": "execute_result"
    }
   ],
   "source": [
    "re.findall(r\"hello\", s)"
   ]
  },
  {
   "cell_type": "code",
   "execution_count": 52,
   "id": "4e40927e-781f-4148-9514-4e672eb07a47",
   "metadata": {},
   "outputs": [
    {
     "data": {
      "text/plain": [
       "['hello']"
      ]
     },
     "execution_count": 52,
     "metadata": {},
     "output_type": "execute_result"
    }
   ],
   "source": [
    "# Positive lookahead\n",
    "re.findall(r\"hello(?= hello)\", s) # find hello followed by {space}hello\n",
    "# output the first hello"
   ]
  },
  {
   "cell_type": "code",
   "execution_count": 54,
   "id": "066b8f0f-709d-4c1b-b7c1-c24266f0d8bf",
   "metadata": {},
   "outputs": [
    {
     "data": {
      "text/plain": [
       "['hello']"
      ]
     },
     "execution_count": 54,
     "metadata": {},
     "output_type": "execute_result"
    }
   ],
   "source": [
    "# Negative lookahead\n",
    "re.findall(r\"hello(?! hello)\", s) # # find hello not followed by {space}hello\n",
    "# output the second hello"
   ]
  },
  {
   "cell_type": "markdown",
   "id": "35f8f80a-49cb-4493-b396-94c0b4807b3c",
   "metadata": {
    "jp-MarkdownHeadingCollapsed": true
   },
   "source": [
    "### Lookbehind <"
   ]
  },
  {
   "cell_type": "code",
   "execution_count": 56,
   "id": "122459fd-791d-4502-ab5a-8e5d7db3a8f9",
   "metadata": {},
   "outputs": [
    {
     "data": {
      "text/plain": [
       "'def'"
      ]
     },
     "execution_count": 56,
     "metadata": {},
     "output_type": "execute_result"
    }
   ],
   "source": [
    "m = re.search('(?<=abc)def', 'abcdef')\n",
    "m.group(0)"
   ]
  },
  {
   "cell_type": "code",
   "execution_count": 57,
   "id": "9ab00b52-6ae0-4415-98b3-afc21ffad659",
   "metadata": {},
   "outputs": [
    {
     "name": "stdout",
     "output_type": "stream",
     "text": [
      "None\n"
     ]
    }
   ],
   "source": [
    "m = re.search('(?<=abc)def', 'aaadef')\n",
    "print(m)"
   ]
  },
  {
   "cell_type": "code",
   "execution_count": null,
   "id": "5997130e-e535-49bd-a784-03e492e68888",
   "metadata": {},
   "outputs": [],
   "source": []
  }
 ],
 "metadata": {
  "kernelspec": {
   "display_name": "Python 3 (ipykernel)",
   "language": "python",
   "name": "python3"
  },
  "language_info": {
   "codemirror_mode": {
    "name": "ipython",
    "version": 3
   },
   "file_extension": ".py",
   "mimetype": "text/x-python",
   "name": "python",
   "nbconvert_exporter": "python",
   "pygments_lexer": "ipython3",
   "version": "3.12.5"
  }
 },
 "nbformat": 4,
 "nbformat_minor": 5
}
